{
 "cells": [
  {
   "cell_type": "code",
   "execution_count": 1,
   "metadata": {},
   "outputs": [],
   "source": [
    "import cv2\n",
    "import math\n",
    "import numpy as np"
   ]
  },
  {
   "cell_type": "code",
   "execution_count": 2,
   "metadata": {},
   "outputs": [],
   "source": [
    "def DarkChannel(im, sz):\n",
    "    b, g, r = cv2.split(im)\n",
    "    dc = cv2.min(cv2.min(r, g), b)\n",
    "    kernel = cv2.getStructuringElement(cv2.MORPH_RECT, (sz, sz))\n",
    "    dark = cv2.erode(dc, kernel)\n",
    "    return dark"
   ]
  },
  {
   "cell_type": "code",
   "execution_count": 3,
   "metadata": {},
   "outputs": [],
   "source": [
    "def AtmLight(im, dark):\n",
    "    [h, w] = im.shape[:2]\n",
    "    imsz = h * w\n",
    "    numpx = int(max(math.floor(imsz / 1000), 1))\n",
    "    darkvec = dark.reshape(imsz, 1)\n",
    "    imvec = im.reshape(imsz, 3)\n",
    "\n",
    "    indices = darkvec.argsort()\n",
    "    indices = indices[imsz - numpx::]\n",
    "\n",
    "    atmsum = np.zeros([1, 3])\n",
    "    for ind in range(1, numpx):\n",
    "        atmsum = atmsum + imvec[indices[ind]]\n",
    "\n",
    "    A = atmsum / numpx\n",
    "    return A"
   ]
  },
  {
   "cell_type": "code",
   "execution_count": 4,
   "metadata": {},
   "outputs": [],
   "source": [
    "def TransmissionEstimate(im, A, sz):\n",
    "    omega = 0.95\n",
    "    im3 = np.empty(im.shape, im.dtype)\n",
    "\n",
    "    for ind in range(0, 3):\n",
    "        im3[:, :, ind] = im[:, :, ind] / A[0, ind]\n",
    "\n",
    "    transmission = 1 - omega * DarkChannel(im3, sz)\n",
    "    return transmission"
   ]
  },
  {
   "cell_type": "code",
   "execution_count": 5,
   "metadata": {},
   "outputs": [],
   "source": [
    "def Guidedfilter(im, p, r, eps):\n",
    "    mean_I = cv2.boxFilter(im, cv2.CV_64F, (r, r))\n",
    "    mean_p = cv2.boxFilter(p, cv2.CV_64F, (r, r))\n",
    "    mean_Ip = cv2.boxFilter(im * p, cv2.CV_64F, (r, r))\n",
    "    cov_Ip = mean_Ip - mean_I * mean_p\n",
    "\n",
    "    mean_II = cv2.boxFilter(im * im, cv2.CV_64F, (r, r))\n",
    "    var_I = mean_II - mean_I * mean_I\n",
    "\n",
    "    a = cov_Ip / (var_I + eps)\n",
    "    b = mean_p - a * mean_I\n",
    "\n",
    "    mean_a = cv2.boxFilter(a, cv2.CV_64F, (r, r))\n",
    "    mean_b = cv2.boxFilter(b, cv2.CV_64F, (r, r))\n",
    "\n",
    "    q = mean_a * im + mean_b\n",
    "    return q"
   ]
  },
  {
   "cell_type": "code",
   "execution_count": 6,
   "metadata": {},
   "outputs": [],
   "source": [
    "def TransmissionRefine(im, et):\n",
    "    gray = cv2.cvtColor(im, cv2.COLOR_BGR2GRAY)\n",
    "    gray = np.float64(gray) / 255\n",
    "    r = 60\n",
    "    eps = 0.0001\n",
    "    t = Guidedfilter(gray, et, r, eps)\n",
    "\n",
    "    return t"
   ]
  },
  {
   "cell_type": "code",
   "execution_count": 7,
   "metadata": {},
   "outputs": [],
   "source": [
    "def Recover(im, t, A, tx=0.1):\n",
    "    res = np.empty(im.shape, im.dtype)\n",
    "    t = cv2.max(t, tx)\n",
    "\n",
    "    for ind in range(0, 3):\n",
    "        res[:, :, ind] = (im[:, :, ind] - A[0, ind]) / t + A[0, ind]\n",
    "\n",
    "    return res"
   ]
  },
  {
   "cell_type": "code",
   "execution_count": 10,
   "metadata": {},
   "outputs": [
    {
     "data": {
      "text/plain": [
       "True"
      ]
     },
     "execution_count": 10,
     "metadata": {},
     "output_type": "execute_result"
    }
   ],
   "source": [
    "src = cv2.imread('test.png')\n",
    "\n",
    "I = src.astype('float64') / 255\n",
    "\n",
    "dark = DarkChannel(I, 15)\n",
    "A = AtmLight(I, dark)\n",
    "te = TransmissionEstimate(I, A, 15)\n",
    "t = TransmissionRefine(src, te)\n",
    "J = Recover(I, t, A, 0.1)\n",
    "\n",
    "cv2.imshow(\"dark\", dark)\n",
    "cv2.imshow(\"t\", t)\n",
    "cv2.imshow('I', src)\n",
    "cv2.imshow('J', J)\n",
    "cv2.imwrite(\"ans.png\", t * 255)"
   ]
  },
  {
   "cell_type": "code",
   "execution_count": null,
   "metadata": {},
   "outputs": [],
   "source": []
  }
 ],
 "metadata": {
  "kernelspec": {
   "display_name": "Python 3",
   "language": "python",
   "name": "python3"
  },
  "language_info": {
   "codemirror_mode": {
    "name": "ipython",
    "version": 3
   },
   "file_extension": ".py",
   "mimetype": "text/x-python",
   "name": "python",
   "nbconvert_exporter": "python",
   "pygments_lexer": "ipython3",
   "version": "3.6.4"
  }
 },
 "nbformat": 4,
 "nbformat_minor": 2
}
